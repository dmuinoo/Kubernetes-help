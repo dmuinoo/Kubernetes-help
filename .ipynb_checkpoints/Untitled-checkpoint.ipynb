{
 "cells": [
  {
   "cell_type": "markdown",
   "metadata": {},
   "source": [
    "# Kubernetes ayuda"
   ]
  },
  {
   "cell_type": "markdown",
   "metadata": {},
   "source": [
    "## CI/CD con GKE tutorial\n",
    "\n",
    "En este tutorial, tu crearas un cluster Kubernetes en GKE, desplegar desde Github, escalar y actualizar el codigo.\n",
    "\n"
   ]
  },
  {
   "cell_type": "markdown",
   "metadata": {},
   "source": [
    "#### PASO 1: CREAR UN CLUSTER"
   ]
  },
  {
   "cell_type": "code",
   "execution_count": null,
   "metadata": {
    "collapsed": true
   },
   "outputs": [],
   "source": [
    "$ gcloud container clusters create k0\n",
    "Creating cluster k0...done.\n",
    "Created [https://container.googleapis.com/v1/projects/kubernetes-terminal-simula\n",
    "tor/zones/us-west1-a/clusters/k0].\n",
    "kubeconfig entry generated for k0.\n",
    "NAME  ZONE        MASTER_VERSION  MASTER_IP       MACHINE_TYPE   NODE_VERSION  N\n",
    "UM_NODES  STATUS\n",
    "k0    us-west1-a  1.7.8-gke.0     203.0.113.139  n1-standard-1  1.7.8-gke.0   3 \n",
    "         RUNNING"
   ]
  },
  {
   "cell_type": "markdown",
   "metadata": {},
   "source": [
    "#### PASO 2: DESPLEGAR DESDE GITHUB\n",
    "Nosotros hacemos un pull y desplegamos en Kubernetes desde github"
   ]
  },
  {
   "cell_type": "code",
   "execution_count": null,
   "metadata": {
    "collapsed": true
   },
   "outputs": [],
   "source": [
    "$ kubectl run app --image gcr.io/google-samples/hello-app:1.0\n",
    "deployment \"app\" created"
   ]
  },
  {
   "cell_type": "markdown",
   "metadata": {},
   "source": [
    "#### PASO 3: ESCALAR\n",
    "Escalamos el despliegue desde 3 maquinas echas para redundancia\n"
   ]
  },
  {
   "cell_type": "code",
   "execution_count": null,
   "metadata": {
    "collapsed": true
   },
   "outputs": [],
   "source": [
    "$ kubectl scale deployment app --replicas 3\n",
    "deployment \"app\" scaled"
   ]
  },
  {
   "cell_type": "markdown",
   "metadata": {},
   "source": [
    "#### PASO 4: ABRIR PUERTOS\n",
    "La web esta desplegada, queda abrirla al mundo"
   ]
  },
  {
   "cell_type": "code",
   "execution_count": null,
   "metadata": {
    "collapsed": true
   },
   "outputs": [],
   "source": [
    "$ kubectl expose deployment app --port 80 --type=LoadBalancer\n",
    "service \"app\" exposed"
   ]
  },
  {
   "cell_type": "markdown",
   "metadata": {},
   "source": [
    "#### PASO 5: CONFIRMAR DESPLIEGUE\n",
    "Confirmar el despliegue"
   ]
  },
  {
   "cell_type": "code",
   "execution_count": null,
   "metadata": {
    "collapsed": true
   },
   "outputs": [],
   "source": [
    "$ kubectl get service app\n",
    "NAME      TYPE           CLUSTER-IP      EXTERNAL-IP     PORT(S)          AGE\n",
    "app       LoadBalancer   198.51.100.72   203.0.113.196   80:31834/TCP   1m"
   ]
  },
  {
   "cell_type": "markdown",
   "metadata": {},
   "source": [
    "#### PASO 6: CONFIRMAR DISPONIBILIDAD\n",
    "Confirmar que la web esta desplegada y disponible "
   ]
  },
  {
   "cell_type": "code",
   "execution_count": null,
   "metadata": {
    "collapsed": true
   },
   "outputs": [],
   "source": [
    "$ curl http://203.0.113.196:80\n",
    "Hello, world!\n",
    "Version: 1.0.0\n",
    "Hostname: app-970732273-dadxm"
   ]
  },
  {
   "cell_type": "markdown",
   "metadata": {},
   "source": [
    "#### PASO 7: ACTUALIZAR CODIGO\n",
    "Imagina que la web ha sido actualizada y necesitamos desplegar la actualizacion del codigo a producion\n"
   ]
  },
  {
   "cell_type": "code",
   "execution_count": null,
   "metadata": {
    "collapsed": true
   },
   "outputs": [],
   "source": [
    "$ kubectl set image deployment app app=gcr.io/google-samples/hello-app:2.0\n",
    "deployment \"app\" image updated"
   ]
  },
  {
   "cell_type": "markdown",
   "metadata": {},
   "source": [
    "#### PASO 8: CONFIRMAR ACTUALIZACION\n",
    "Comprobar que tu web esta actualizada y corriendo"
   ]
  },
  {
   "cell_type": "code",
   "execution_count": null,
   "metadata": {
    "collapsed": true
   },
   "outputs": [],
   "source": [
    "$ curl http://203.0.113.196:80\n",
    "Hello, world!\n",
    "Version: 2.0.0\n",
    "Hostname: app-970732273-fplvq"
   ]
  },
  {
   "cell_type": "markdown",
   "metadata": {},
   "source": [
    "#### MIENTRAS SE HACE ESTO SE PUEDE CHEQUEAR EL RESULTATO EN OTRO TERMINAL"
   ]
  },
  {
   "cell_type": "code",
   "execution_count": null,
   "metadata": {
    "collapsed": true
   },
   "outputs": [],
   "source": [
    "watch -n 1 kubectl get pods\n",
    "Every 1.0s: kubectl get pods\n",
    " \n",
    "$ kubectl get pods\n",
    "NAME                  READY     STATUS    RESTARTS   AGE\n",
    "app-970732273-zod3v   1/1       Running   0          24m\n",
    "app-970732273-uqaat   1/1       Running   0          24m\n",
    "app-970732273-fplvq   1/1       Running   0          24m"
   ]
  }
 ],
 "metadata": {
  "kernelspec": {
   "display_name": "Python 3",
   "language": "python",
   "name": "python3"
  },
  "language_info": {
   "codemirror_mode": {
    "name": "ipython",
    "version": 3
   },
   "file_extension": ".py",
   "mimetype": "text/x-python",
   "name": "python",
   "nbconvert_exporter": "python",
   "pygments_lexer": "ipython3",
   "version": "3.6.1"
  }
 },
 "nbformat": 4,
 "nbformat_minor": 2
}
